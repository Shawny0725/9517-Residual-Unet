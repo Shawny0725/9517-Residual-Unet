{
 "cells": [
  {
   "cell_type": "code",
   "execution_count": 1,
   "metadata": {},
   "outputs": [],
   "source": [
    "from tifffile import imsave\n",
    "import skimage.io as io\n",
    "import numpy as np\n",
    "import glob\n",
    "\n",
    "# path='labels_tiff'\n",
    "# files=glob.glob(path+'/*')\n",
    "# len(files)"
   ]
  },
  {
   "cell_type": "code",
   "execution_count": 4,
   "metadata": {},
   "outputs": [
    {
     "name": "stdout",
     "output_type": "stream",
     "text": [
      "(512, 512)\n",
      "(512, 512, 1)\n"
     ]
    }
   ],
   "source": [
    "labletif = io.imread(\"train-labels00.jpg\",as_gray= True)\n",
    "labletif = labletif.astype(np.float32)\n",
    "labletif = labletif/255\n",
    "labletif[labletif>=0.5]=1\n",
    "labletif[labletif<0.5]=0\n",
    "# print(np.unique(labletif))\n",
    "# imsave('label28.tif',labletif)\n",
    "print(labletif.shape)\n",
    "labletif=np.reshape(labletif,labletif.shape+(1,))\n",
    "print(labletif.shape)"
   ]
  },
  {
   "cell_type": "code",
   "execution_count": 5,
   "metadata": {},
   "outputs": [
    {
     "name": "stdout",
     "output_type": "stream",
     "text": [
      "(512, 512, 30)\n"
     ]
    }
   ],
   "source": [
    "for i in range(1,30):\n",
    "    eachlabletif = io.imread(\"train-labels\"+str(i).zfill(2)+\".jpg\",as_gray= True)\n",
    "    eachlabletif = eachlabletif.astype(np.float32)\n",
    "    eachlabletif = eachlabletif/255\n",
    "    eachlabletif[eachlabletif>=0.5]=1\n",
    "    eachlabletif[eachlabletif<0.5]=0\n",
    "    # print(np.unique(labletif))\n",
    "    eachlabletif=np.reshape(eachlabletif,eachlabletif.shape+(1,))\n",
    "    labletif = np.concatenate([labletif,eachlabletif],axis = -1)\n",
    "print(labletif.shape)"
   ]
  },
  {
   "cell_type": "code",
   "execution_count": null,
   "metadata": {},
   "outputs": [],
   "source": [
    "imsave('all_label.tif',labletif)"
   ]
  },
  {
   "cell_type": "code",
   "execution_count": null,
   "metadata": {},
   "outputs": [],
   "source": []
  },
  {
   "cell_type": "code",
   "execution_count": null,
   "metadata": {},
   "outputs": [],
   "source": []
  },
  {
   "cell_type": "code",
   "execution_count": 3,
   "metadata": {},
   "outputs": [
    {
     "name": "stdout",
     "output_type": "stream",
     "text": [
      "(512, 512)\n",
      "(512, 512, 1)\n"
     ]
    }
   ],
   "source": [
    "labletif = io.imread(\"train-labels29.jpg\",as_gray= True)\n",
    "labletif = labletif.astype(np.float32)\n",
    "labletif = labletif/255\n",
    "# labletif[labletif>=0.5]=1\n",
    "# labletif[labletif<0.5]=0\n",
    "# print(np.unique(labletif))\n",
    "# imsave('label28.tif',labletif)\n",
    "print(labletif.shape)\n",
    "labletif=np.reshape(labletif,labletif.shape+(1,))\n",
    "print(labletif.shape)\n",
    "imsave('label29.tif',labletif)"
   ]
  },
  {
   "cell_type": "code",
   "execution_count": null,
   "metadata": {},
   "outputs": [],
   "source": []
  },
  {
   "cell_type": "code",
   "execution_count": 6,
   "metadata": {},
   "outputs": [],
   "source": []
  },
  {
   "cell_type": "code",
   "execution_count": 46,
   "metadata": {},
   "outputs": [],
   "source": [
    "arr=np.ndarray((512,512,len(files)),dtype=np.float32)"
   ]
  },
  {
   "cell_type": "code",
   "execution_count": 47,
   "metadata": {},
   "outputs": [],
   "source": [
    "save_path='labels_tiff_0_1'\n",
    "for idx,file in enumerate(files):\n",
    "    labletif = io.imread(file,as_gray= True)\n",
    "    labletif = labletif.astype(np.float32)\n",
    "    labletif = labletif/255\n",
    "    labletif[labletif>=0.5]=1\n",
    "    labletif[labletif<0.5]=0\n",
    "    arr[:,:,idx]=labletif\n",
    "    # print(np.unique(labletif))\n",
    "#     imsave(save_path+'/'+file.split('/')[-1],labletif)"
   ]
  },
  {
   "cell_type": "code",
   "execution_count": 50,
   "metadata": {},
   "outputs": [
    {
     "data": {
      "text/plain": [
       "(512, 512, 30)"
      ]
     },
     "execution_count": 50,
     "metadata": {},
     "output_type": "execute_result"
    }
   ],
   "source": [
    "arr.shape"
   ]
  },
  {
   "cell_type": "code",
   "execution_count": null,
   "metadata": {},
   "outputs": [],
   "source": []
  }
 ],
 "metadata": {
  "kernelspec": {
   "display_name": "Python 3",
   "language": "python",
   "name": "python3"
  },
  "language_info": {
   "codemirror_mode": {
    "name": "ipython",
    "version": 3
   },
   "file_extension": ".py",
   "mimetype": "text/x-python",
   "name": "python",
   "nbconvert_exporter": "python",
   "pygments_lexer": "ipython3",
   "version": "3.6.4"
  }
 },
 "nbformat": 4,
 "nbformat_minor": 2
}
